{
  "nbformat": 4,
  "nbformat_minor": 0,
  "metadata": {
    "colab": {
      "provenance": [],
      "gpuType": "T4"
    },
    "kernelspec": {
      "name": "python3",
      "display_name": "Python 3"
    },
    "language_info": {
      "name": "python"
    },
    "accelerator": "GPU"
  },
  "cells": [
    {
      "cell_type": "markdown",
      "source": [
        "##Using sentence transformers"
      ],
      "metadata": {
        "id": "_FMYVLHCjVra"
      }
    },
    {
      "cell_type": "code",
      "execution_count": 43,
      "metadata": {
        "id": "erYc5LBYka1D"
      },
      "outputs": [],
      "source": [
        "from sentence_transformers import SentenceTransformer, util\n",
        "import numpy as np\n",
        "import pandas as pd\n"
      ]
    },
    {
      "cell_type": "markdown",
      "source": [
        "##Enter the mock profile"
      ],
      "metadata": {
        "id": "4Pirl3ZpjOxf"
      }
    },
    {
      "cell_type": "code",
      "source": [
        "user_profile = {\n",
        "        \"name\": \"Pratik\",\n",
        "        \"chat_history\": \"I want to understand if I’ll get marrried soon and whether my partner will be compatible with me in the relationship.\"\n",
        "}\n"
      ],
      "metadata": {
        "id": "kpUjiDgciqPq"
      },
      "execution_count": 44,
      "outputs": []
    },
    {
      "cell_type": "markdown",
      "source": [
        "##Mock astrologer dataset generated using chatGPT"
      ],
      "metadata": {
        "id": "qD27N1f7jktO"
      }
    },
    {
      "cell_type": "code",
      "source": [
        "astrologers = [\n",
        "    {\"name\": \"Astro Ram\", \"bio\": \"Expert in career and finance guidance\", \"tags\": [\"career\", \"finance\"]},\n",
        "    {\"name\": \"Priya Devi\", \"bio\": \"Helps in love life and marriage decisions\", \"tags\": [\"love\", \"marriage\"]},\n",
        "    {\"name\": \"Guru Manish\", \"bio\": \"Focuses on spirituality and health advice\", \"tags\": [\"spirituality\", \"health\"]},\n",
        "    {\"name\": \"Jyoti Singh\", \"bio\": \"Astrology for relationships and breakups\", \"tags\": [\"love\", \"relationship\"]},\n",
        "    {\"name\": \"Yogi Ramesh\", \"bio\": \"Life path and destiny analysis through palm reading\", \"tags\": [\"destiny\", \"palmistry\"]},\n",
        "    {\"name\": \"Dr. Kavita Rao\", \"bio\": \"Combines career and emotional wellbeing guidance\", \"tags\": [\"career\", \"mental health\"]},\n",
        "    {\"name\": \"Tantra Baba\", \"bio\": \"Specializes in solving family disputes and money problems\", \"tags\": [\"family\", \"finance\"]},\n",
        "    {\"name\": \"Sunita Bhargav\", \"bio\": \"Helps you heal from past traumas through astrology\", \"tags\": [\"healing\", \"spirituality\"]},\n",
        "    {\"name\": \"Naina Shastri\", \"bio\": \"Renowned expert in marriage predictions and kundli matching\", \"tags\": [\"marriage\", \"compatibility\"]},\n",
        "    {\"name\": \"Rohit Sharma\", \"bio\": \"Helps professionals navigate career blocks and workplace stress\", \"tags\": [\"career\", \"stress\"]},\n",
        "    {\"name\": \"Sage Arvind\", \"bio\": \"Spiritual guide offering clarity on soul purpose and destiny\", \"tags\": [\"destiny\", \"spirituality\"]},\n",
        "    {\"name\": \"Kavya Joshi\", \"bio\": \"Empowers individuals to overcome emotional trauma through Vedic astrology\", \"tags\": [\"healing\", \"mental health\"]},\n",
        "    {\"name\": \"Tarun Vyas\", \"bio\": \"Astrologer focusing on financial growth and wealth building\", \"tags\": [\"finance\", \"wealth\"]},\n",
        "    {\"name\": \"Maya Acharya\", \"bio\": \"Specialist in relationship counseling and love astrology\", \"tags\": [\"love\", \"relationship\"]},\n",
        "    {\"name\": \"Acharya Vikram\", \"bio\": \"Guides youth through career and academic dilemmas with astrological insight\", \"tags\": [\"career\", \"education\"]},\n",
        "    {\"name\": \"Swami Pranav\", \"bio\": \"Uses astrology to help with family harmony and personal growth\", \"tags\": [\"family\", \"growth\"]},\n",
        "    {\"name\": \"Divya Patel\", \"bio\": \"Known for accurate predictions in childbirth and parenting matters\", \"tags\": [\"parenting\", \"family\"]},\n",
        "    {\"name\": \"Rishi Omkar\", \"bio\": \"Provides spiritual healing and aura cleansing advice through astrology\", \"tags\": [\"healing\", \"aura cleansing\", \"spirituality\"]}\n",
        "]\n"
      ],
      "metadata": {
        "id": "xuhRB6IEisfR"
      },
      "execution_count": 45,
      "outputs": []
    },
    {
      "cell_type": "code",
      "source": [
        "model = SentenceTransformer('all-mpnet-base-v2')\n"
      ],
      "metadata": {
        "id": "1axSUwQiivZT"
      },
      "execution_count": 46,
      "outputs": []
    },
    {
      "cell_type": "markdown",
      "source": [
        "###converting user input and astrologers to embeddings"
      ],
      "metadata": {
        "id": "BmsUJ_DkqthW"
      }
    },
    {
      "cell_type": "code",
      "source": [
        "user_embedding = model.encode(user_profile['chat_history'], convert_to_tensor=True)\n",
        "\n",
        "for astro in astrologers:\n",
        "    astro_text = f\"{astro['bio']} | Tags: {', '.join(astro['tags'])}\"\n",
        "    astro['embedding'] = model.encode(astro_text, convert_to_tensor=True)\n"
      ],
      "metadata": {
        "id": "y62G2ioOizBn"
      },
      "execution_count": 47,
      "outputs": []
    },
    {
      "cell_type": "code",
      "source": [
        "#similarity scores\n",
        "for astro in astrologers:\n",
        "    similarity = util.pytorch_cos_sim(user_embedding, astro['embedding']).item()\n",
        "    astro['similarity'] = round(similarity, 3)\n",
        "\n",
        "#sorting astrologers by relevance\n",
        "recommended = sorted(astrologers, key=lambda x: x['similarity'], reverse=True)\n"
      ],
      "metadata": {
        "id": "nShJWCMKi9No"
      },
      "execution_count": 48,
      "outputs": []
    },
    {
      "cell_type": "markdown",
      "source": [
        "###Testing the system"
      ],
      "metadata": {
        "id": "ZsNu7qoRqmOL"
      }
    },
    {
      "cell_type": "code",
      "source": [
        "print(\"🔮 Top 3 Astrologers for the User:\\n\")\n",
        "for i, astro in enumerate(recommended[:3]):\n",
        "    print(f\"{i+1}. {astro['name']}\")\n",
        "    print(f\"   Tags: {', '.join(astro['tags'])}\")\n",
        "    print(f\"   Bio: {astro['bio']}\")\n",
        "    print(f\"   Relevance Score: {astro['similarity']}\")\n",
        "    print()\n"
      ],
      "metadata": {
        "colab": {
          "base_uri": "https://localhost:8080/"
        },
        "id": "_boXn_XcjIcy",
        "outputId": "b0fd92de-0ecc-4ee8-c2fe-e6f8fb625c9c"
      },
      "execution_count": 49,
      "outputs": [
        {
          "output_type": "stream",
          "name": "stdout",
          "text": [
            "🔮 Top 3 Astrologers for the User:\n",
            "\n",
            "1. Maya Acharya\n",
            "   Tags: love, relationship\n",
            "   Bio: Specialist in relationship counseling and love astrology\n",
            "   Relevance Score: 0.568\n",
            "\n",
            "2. Naina Shastri\n",
            "   Tags: marriage, compatibility\n",
            "   Bio: Renowned expert in marriage predictions and kundli matching\n",
            "   Relevance Score: 0.549\n",
            "\n",
            "3. Jyoti Singh\n",
            "   Tags: love, relationship\n",
            "   Bio: Astrology for relationships and breakups\n",
            "   Relevance Score: 0.491\n",
            "\n"
          ]
        }
      ]
    }
  ]
}